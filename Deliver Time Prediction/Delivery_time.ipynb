{
 "cells": [
  {
   "cell_type": "code",
   "execution_count": 33,
   "id": "29464a3e-8ccf-4ed8-b5c6-b61fccd18e9f",
   "metadata": {},
   "outputs": [],
   "source": [
    "import numpy as np\n",
    "import pandas as pd\n",
    "import matplotlib.pyplot as plt\n",
    "import re\n",
    "from math import radians, sin, cos, sqrt, atan2\n",
    "from sklearn.preprocessing import LabelEncoder,StandardScaler\n",
    "from sklearn.model_selection import train_test_split,cross_val_score,GridSearchCV\n",
    "from sklearn.linear_model import LinearRegression\n",
    "from sklearn.tree import DecisionTreeRegressor\n",
    "from sklearn.ensemble import RandomForestRegressor\n",
    "from sklearn.metrics import mean_squared_error, r2_score,mean_absolute_error\n",
    "import xgboost as xgb\n",
    "import pickle\n",
    "import json\n",
    "import warnings\n",
    "warnings.filterwarnings(\"ignore\")\n",
    "\n",
    "\n",
    "\n"
   ]
  },
  {
   "cell_type": "code",
   "execution_count": 3,
   "id": "4ee5880a-724f-4f5f-af2a-b21133988c1e",
   "metadata": {},
   "outputs": [
    {
     "data": {
      "text/html": [
       "<div>\n",
       "<style scoped>\n",
       "    .dataframe tbody tr th:only-of-type {\n",
       "        vertical-align: middle;\n",
       "    }\n",
       "\n",
       "    .dataframe tbody tr th {\n",
       "        vertical-align: top;\n",
       "    }\n",
       "\n",
       "    .dataframe thead th {\n",
       "        text-align: right;\n",
       "    }\n",
       "</style>\n",
       "<table border=\"1\" class=\"dataframe\">\n",
       "  <thead>\n",
       "    <tr style=\"text-align: right;\">\n",
       "      <th></th>\n",
       "      <th>ID</th>\n",
       "      <th>Delivery_person_ID</th>\n",
       "      <th>Delivery_person_Age</th>\n",
       "      <th>Delivery_person_Ratings</th>\n",
       "      <th>Restaurant_latitude</th>\n",
       "      <th>Restaurant_longitude</th>\n",
       "      <th>Delivery_location_latitude</th>\n",
       "      <th>Delivery_location_longitude</th>\n",
       "      <th>Order_Date</th>\n",
       "      <th>Time_Orderd</th>\n",
       "      <th>Time_Order_picked</th>\n",
       "      <th>Weatherconditions</th>\n",
       "      <th>Road_traffic_density</th>\n",
       "      <th>Vehicle_condition</th>\n",
       "      <th>Type_of_order</th>\n",
       "      <th>Type_of_vehicle</th>\n",
       "      <th>multiple_deliveries</th>\n",
       "      <th>Festival</th>\n",
       "      <th>City</th>\n",
       "      <th>Time_taken(min)</th>\n",
       "    </tr>\n",
       "  </thead>\n",
       "  <tbody>\n",
       "    <tr>\n",
       "      <th>0</th>\n",
       "      <td>0x4607</td>\n",
       "      <td>INDORES13DEL02</td>\n",
       "      <td>37</td>\n",
       "      <td>4.9</td>\n",
       "      <td>22.745049</td>\n",
       "      <td>75.892471</td>\n",
       "      <td>22.765049</td>\n",
       "      <td>75.912471</td>\n",
       "      <td>19-03-2022</td>\n",
       "      <td>11:30:00</td>\n",
       "      <td>11:45:00</td>\n",
       "      <td>conditions Sunny</td>\n",
       "      <td>High</td>\n",
       "      <td>2</td>\n",
       "      <td>Snack</td>\n",
       "      <td>motorcycle</td>\n",
       "      <td>0</td>\n",
       "      <td>No</td>\n",
       "      <td>Urban</td>\n",
       "      <td>(min) 24</td>\n",
       "    </tr>\n",
       "    <tr>\n",
       "      <th>1</th>\n",
       "      <td>0xb379</td>\n",
       "      <td>BANGRES18DEL02</td>\n",
       "      <td>34</td>\n",
       "      <td>4.5</td>\n",
       "      <td>12.913041</td>\n",
       "      <td>77.683237</td>\n",
       "      <td>13.043041</td>\n",
       "      <td>77.813237</td>\n",
       "      <td>25-03-2022</td>\n",
       "      <td>19:45:00</td>\n",
       "      <td>19:50:00</td>\n",
       "      <td>conditions Stormy</td>\n",
       "      <td>Jam</td>\n",
       "      <td>2</td>\n",
       "      <td>Snack</td>\n",
       "      <td>scooter</td>\n",
       "      <td>1</td>\n",
       "      <td>No</td>\n",
       "      <td>Metropolitian</td>\n",
       "      <td>(min) 33</td>\n",
       "    </tr>\n",
       "    <tr>\n",
       "      <th>2</th>\n",
       "      <td>0x5d6d</td>\n",
       "      <td>BANGRES19DEL01</td>\n",
       "      <td>23</td>\n",
       "      <td>4.4</td>\n",
       "      <td>12.914264</td>\n",
       "      <td>77.678400</td>\n",
       "      <td>12.924264</td>\n",
       "      <td>77.688400</td>\n",
       "      <td>19-03-2022</td>\n",
       "      <td>8:30:00</td>\n",
       "      <td>8:45:00</td>\n",
       "      <td>conditions Sandstorms</td>\n",
       "      <td>Low</td>\n",
       "      <td>0</td>\n",
       "      <td>Drinks</td>\n",
       "      <td>motorcycle</td>\n",
       "      <td>1</td>\n",
       "      <td>No</td>\n",
       "      <td>Urban</td>\n",
       "      <td>(min) 26</td>\n",
       "    </tr>\n",
       "    <tr>\n",
       "      <th>3</th>\n",
       "      <td>0x7a6a</td>\n",
       "      <td>COIMBRES13DEL02</td>\n",
       "      <td>38</td>\n",
       "      <td>4.7</td>\n",
       "      <td>11.003669</td>\n",
       "      <td>76.976494</td>\n",
       "      <td>11.053669</td>\n",
       "      <td>77.026494</td>\n",
       "      <td>05-04-2022</td>\n",
       "      <td>18:00:00</td>\n",
       "      <td>18:10:00</td>\n",
       "      <td>conditions Sunny</td>\n",
       "      <td>Medium</td>\n",
       "      <td>0</td>\n",
       "      <td>Buffet</td>\n",
       "      <td>motorcycle</td>\n",
       "      <td>1</td>\n",
       "      <td>No</td>\n",
       "      <td>Metropolitian</td>\n",
       "      <td>(min) 21</td>\n",
       "    </tr>\n",
       "    <tr>\n",
       "      <th>4</th>\n",
       "      <td>0x70a2</td>\n",
       "      <td>CHENRES12DEL01</td>\n",
       "      <td>32</td>\n",
       "      <td>4.6</td>\n",
       "      <td>12.972793</td>\n",
       "      <td>80.249982</td>\n",
       "      <td>13.012793</td>\n",
       "      <td>80.289982</td>\n",
       "      <td>26-03-2022</td>\n",
       "      <td>13:30:00</td>\n",
       "      <td>13:45:00</td>\n",
       "      <td>conditions Cloudy</td>\n",
       "      <td>High</td>\n",
       "      <td>1</td>\n",
       "      <td>Snack</td>\n",
       "      <td>scooter</td>\n",
       "      <td>1</td>\n",
       "      <td>No</td>\n",
       "      <td>Metropolitian</td>\n",
       "      <td>(min) 30</td>\n",
       "    </tr>\n",
       "  </tbody>\n",
       "</table>\n",
       "</div>"
      ],
      "text/plain": [
       "        ID Delivery_person_ID Delivery_person_Age Delivery_person_Ratings  \\\n",
       "0  0x4607     INDORES13DEL02                   37                     4.9   \n",
       "1  0xb379     BANGRES18DEL02                   34                     4.5   \n",
       "2  0x5d6d     BANGRES19DEL01                   23                     4.4   \n",
       "3  0x7a6a    COIMBRES13DEL02                   38                     4.7   \n",
       "4  0x70a2     CHENRES12DEL01                   32                     4.6   \n",
       "\n",
       "   Restaurant_latitude  Restaurant_longitude  Delivery_location_latitude  \\\n",
       "0            22.745049             75.892471                   22.765049   \n",
       "1            12.913041             77.683237                   13.043041   \n",
       "2            12.914264             77.678400                   12.924264   \n",
       "3            11.003669             76.976494                   11.053669   \n",
       "4            12.972793             80.249982                   13.012793   \n",
       "\n",
       "   Delivery_location_longitude  Order_Date Time_Orderd Time_Order_picked  \\\n",
       "0                    75.912471  19-03-2022    11:30:00          11:45:00   \n",
       "1                    77.813237  25-03-2022    19:45:00          19:50:00   \n",
       "2                    77.688400  19-03-2022     8:30:00           8:45:00   \n",
       "3                    77.026494  05-04-2022    18:00:00          18:10:00   \n",
       "4                    80.289982  26-03-2022    13:30:00          13:45:00   \n",
       "\n",
       "       Weatherconditions Road_traffic_density  Vehicle_condition  \\\n",
       "0       conditions Sunny                High                   2   \n",
       "1      conditions Stormy                 Jam                   2   \n",
       "2  conditions Sandstorms                 Low                   0   \n",
       "3       conditions Sunny              Medium                   0   \n",
       "4      conditions Cloudy                High                   1   \n",
       "\n",
       "  Type_of_order Type_of_vehicle multiple_deliveries Festival            City  \\\n",
       "0        Snack      motorcycle                    0      No           Urban    \n",
       "1        Snack         scooter                    1      No   Metropolitian    \n",
       "2       Drinks      motorcycle                    1      No           Urban    \n",
       "3       Buffet      motorcycle                    1      No   Metropolitian    \n",
       "4        Snack         scooter                    1      No   Metropolitian    \n",
       "\n",
       "  Time_taken(min)  \n",
       "0        (min) 24  \n",
       "1        (min) 33  \n",
       "2        (min) 26  \n",
       "3        (min) 21  \n",
       "4        (min) 30  "
      ]
     },
     "execution_count": 3,
     "metadata": {},
     "output_type": "execute_result"
    }
   ],
   "source": [
    "df=pd.read_csv(\"C:\\\\Users\\\\KIIT\\\\Downloads\\\\kaggle\\\\train.csv\")\n",
    "df.head()\n"
   ]
  },
  {
   "cell_type": "code",
   "execution_count": 3,
   "id": "c254d83b-d463-430b-af54-73f2128c5a57",
   "metadata": {},
   "outputs": [
    {
     "name": "stdout",
     "output_type": "stream",
     "text": [
      "<class 'pandas.core.frame.DataFrame'>\n",
      "RangeIndex: 45593 entries, 0 to 45592\n",
      "Data columns (total 20 columns):\n",
      " #   Column                       Non-Null Count  Dtype  \n",
      "---  ------                       --------------  -----  \n",
      " 0   ID                           45593 non-null  object \n",
      " 1   Delivery_person_ID           45593 non-null  object \n",
      " 2   Delivery_person_Age          45593 non-null  object \n",
      " 3   Delivery_person_Ratings      45593 non-null  object \n",
      " 4   Restaurant_latitude          45593 non-null  float64\n",
      " 5   Restaurant_longitude         45593 non-null  float64\n",
      " 6   Delivery_location_latitude   45593 non-null  float64\n",
      " 7   Delivery_location_longitude  45593 non-null  float64\n",
      " 8   Order_Date                   45593 non-null  object \n",
      " 9   Time_Orderd                  45593 non-null  object \n",
      " 10  Time_Order_picked            45593 non-null  object \n",
      " 11  Weatherconditions            45593 non-null  object \n",
      " 12  Road_traffic_density         45593 non-null  object \n",
      " 13  Vehicle_condition            45593 non-null  int64  \n",
      " 14  Type_of_order                45593 non-null  object \n",
      " 15  Type_of_vehicle              45593 non-null  object \n",
      " 16  multiple_deliveries          45593 non-null  object \n",
      " 17  Festival                     45593 non-null  object \n",
      " 18  City                         45593 non-null  object \n",
      " 19  Time_taken(min)              45593 non-null  object \n",
      "dtypes: float64(4), int64(1), object(15)\n",
      "memory usage: 7.0+ MB\n"
     ]
    }
   ],
   "source": [
    "df.info()"
   ]
  },
  {
   "cell_type": "code",
   "execution_count": 80,
   "id": "d9083cd4-9a32-4e5c-ac24-adced7b33e15",
   "metadata": {},
   "outputs": [
    {
     "data": {
      "text/html": [
       "<div>\n",
       "<style scoped>\n",
       "    .dataframe tbody tr th:only-of-type {\n",
       "        vertical-align: middle;\n",
       "    }\n",
       "\n",
       "    .dataframe tbody tr th {\n",
       "        vertical-align: top;\n",
       "    }\n",
       "\n",
       "    .dataframe thead th {\n",
       "        text-align: right;\n",
       "    }\n",
       "</style>\n",
       "<table border=\"1\" class=\"dataframe\">\n",
       "  <thead>\n",
       "    <tr style=\"text-align: right;\">\n",
       "      <th></th>\n",
       "      <th>Delivery_person_Age</th>\n",
       "      <th>Restaurant_latitude</th>\n",
       "      <th>Restaurant_longitude</th>\n",
       "      <th>delivery_latitude</th>\n",
       "      <th>delivery_longitude</th>\n",
       "      <th>Vehicle_condition</th>\n",
       "      <th>multiple_deliveries</th>\n",
       "    </tr>\n",
       "  </thead>\n",
       "  <tbody>\n",
       "    <tr>\n",
       "      <th>count</th>\n",
       "      <td>43739.000000</td>\n",
       "      <td>45593.000000</td>\n",
       "      <td>45593.000000</td>\n",
       "      <td>45593.000000</td>\n",
       "      <td>45593.000000</td>\n",
       "      <td>45593.000000</td>\n",
       "      <td>44600.000000</td>\n",
       "    </tr>\n",
       "    <tr>\n",
       "      <th>mean</th>\n",
       "      <td>29.567137</td>\n",
       "      <td>17.017729</td>\n",
       "      <td>70.231332</td>\n",
       "      <td>17.465186</td>\n",
       "      <td>70.845702</td>\n",
       "      <td>1.023359</td>\n",
       "      <td>0.744664</td>\n",
       "    </tr>\n",
       "    <tr>\n",
       "      <th>std</th>\n",
       "      <td>5.815155</td>\n",
       "      <td>8.185109</td>\n",
       "      <td>22.883647</td>\n",
       "      <td>7.335122</td>\n",
       "      <td>21.118812</td>\n",
       "      <td>0.839065</td>\n",
       "      <td>0.572473</td>\n",
       "    </tr>\n",
       "    <tr>\n",
       "      <th>min</th>\n",
       "      <td>15.000000</td>\n",
       "      <td>-30.905562</td>\n",
       "      <td>-88.366217</td>\n",
       "      <td>0.010000</td>\n",
       "      <td>0.010000</td>\n",
       "      <td>0.000000</td>\n",
       "      <td>0.000000</td>\n",
       "    </tr>\n",
       "    <tr>\n",
       "      <th>25%</th>\n",
       "      <td>25.000000</td>\n",
       "      <td>12.933284</td>\n",
       "      <td>73.170000</td>\n",
       "      <td>12.988453</td>\n",
       "      <td>73.280000</td>\n",
       "      <td>0.000000</td>\n",
       "      <td>0.000000</td>\n",
       "    </tr>\n",
       "    <tr>\n",
       "      <th>50%</th>\n",
       "      <td>30.000000</td>\n",
       "      <td>18.546947</td>\n",
       "      <td>75.898497</td>\n",
       "      <td>18.633934</td>\n",
       "      <td>76.002574</td>\n",
       "      <td>1.000000</td>\n",
       "      <td>1.000000</td>\n",
       "    </tr>\n",
       "    <tr>\n",
       "      <th>75%</th>\n",
       "      <td>35.000000</td>\n",
       "      <td>22.728163</td>\n",
       "      <td>78.044095</td>\n",
       "      <td>22.785049</td>\n",
       "      <td>78.107044</td>\n",
       "      <td>2.000000</td>\n",
       "      <td>1.000000</td>\n",
       "    </tr>\n",
       "    <tr>\n",
       "      <th>max</th>\n",
       "      <td>50.000000</td>\n",
       "      <td>30.914057</td>\n",
       "      <td>88.433452</td>\n",
       "      <td>31.054057</td>\n",
       "      <td>88.563452</td>\n",
       "      <td>3.000000</td>\n",
       "      <td>3.000000</td>\n",
       "    </tr>\n",
       "  </tbody>\n",
       "</table>\n",
       "</div>"
      ],
      "text/plain": [
       "       Delivery_person_Age  Restaurant_latitude  Restaurant_longitude  \\\n",
       "count         43739.000000         45593.000000          45593.000000   \n",
       "mean             29.567137            17.017729             70.231332   \n",
       "std               5.815155             8.185109             22.883647   \n",
       "min              15.000000           -30.905562            -88.366217   \n",
       "25%              25.000000            12.933284             73.170000   \n",
       "50%              30.000000            18.546947             75.898497   \n",
       "75%              35.000000            22.728163             78.044095   \n",
       "max              50.000000            30.914057             88.433452   \n",
       "\n",
       "       delivery_latitude  delivery_longitude  Vehicle_condition  \\\n",
       "count       45593.000000        45593.000000       45593.000000   \n",
       "mean           17.465186           70.845702           1.023359   \n",
       "std             7.335122           21.118812           0.839065   \n",
       "min             0.010000            0.010000           0.000000   \n",
       "25%            12.988453           73.280000           0.000000   \n",
       "50%            18.633934           76.002574           1.000000   \n",
       "75%            22.785049           78.107044           2.000000   \n",
       "max            31.054057           88.563452           3.000000   \n",
       "\n",
       "       multiple_deliveries  \n",
       "count         44600.000000  \n",
       "mean              0.744664  \n",
       "std               0.572473  \n",
       "min               0.000000  \n",
       "25%               0.000000  \n",
       "50%               1.000000  \n",
       "75%               1.000000  \n",
       "max               3.000000  "
      ]
     },
     "execution_count": 80,
     "metadata": {},
     "output_type": "execute_result"
    }
   ],
   "source": [
    "df.describe()\n",
    "\n"
   ]
  },
  {
   "cell_type": "code",
   "execution_count": 4,
   "id": "7b186ff8-1cf0-4476-91a2-0e2505f2824e",
   "metadata": {},
   "outputs": [
    {
     "data": {
      "text/plain": [
       "ID                             0\n",
       "Delivery_person_ID             0\n",
       "Delivery_person_Age            0\n",
       "Delivery_person_Ratings        0\n",
       "Restaurant_latitude            0\n",
       "Restaurant_longitude           0\n",
       "Delivery_location_latitude     0\n",
       "Delivery_location_longitude    0\n",
       "Order_Date                     0\n",
       "Time_Orderd                    0\n",
       "Time_Order_picked              0\n",
       "Weatherconditions              0\n",
       "Road_traffic_density           0\n",
       "Vehicle_condition              0\n",
       "Type_of_order                  0\n",
       "Type_of_vehicle                0\n",
       "multiple_deliveries            0\n",
       "Festival                       0\n",
       "City                           0\n",
       "Time_taken(min)                0\n",
       "dtype: int64"
      ]
     },
     "execution_count": 4,
     "metadata": {},
     "output_type": "execute_result"
    }
   ],
   "source": [
    "df.isna().sum()\n"
   ]
  },
  {
   "cell_type": "code",
   "execution_count": 5,
   "id": "5b3a3412-8eae-4509-be6e-215d26a1dff1",
   "metadata": {},
   "outputs": [],
   "source": [
    "df.rename(columns={'Time_taken(min)':'time_taken','Delivery_location_longitude':'delivery_longitude','Delivery_location_latitude':'delivery_latitude'},inplace=True )\n"
   ]
  },
  {
   "cell_type": "code",
   "execution_count": 6,
   "id": "d76dd121-3405-46fc-9c14-87e47ff00e4c",
   "metadata": {},
   "outputs": [],
   "source": [
    "# extract relevant  values from columns \n",
    "def  extract_column_value(df):\n",
    "    df['time_taken']=df.time_taken.apply(lambda x: x.split(\" \")[1])\n",
    "    df['Weatherconditions']=df['Weatherconditions'].apply(lambda x: x.split(\" \")[1])\n",
    "    df['city_code']=df['Delivery_person_ID'].apply(lambda x:x.split('RES')[0])\n",
    "\n",
    "\n",
    "extract_column_value(df)\n",
    "\n",
    "    \n",
    "\n",
    "                                                                       "
   ]
  },
  {
   "cell_type": "code",
   "execution_count": 7,
   "id": "f075270e-05cb-4756-b496-8bd85fbe748d",
   "metadata": {},
   "outputs": [
    {
     "data": {
      "text/plain": [
       "0"
      ]
     },
     "execution_count": 7,
     "metadata": {},
     "output_type": "execute_result"
    }
   ],
   "source": [
    "#observing duplicated values\n",
    "df.duplicated().sum()\n"
   ]
  },
  {
   "cell_type": "code",
   "execution_count": 8,
   "id": "12a48b77-3014-40a4-bbd9-7629f385313c",
   "metadata": {},
   "outputs": [
    {
     "name": "stdout",
     "output_type": "stream",
     "text": [
      "nan\n"
     ]
    }
   ],
   "source": [
    "def check(x):\n",
    "    try:\n",
    "        x=float(x)\n",
    "    except Exception as e:\n",
    "        x=np.nan\n",
    "    return x\n",
    "def check_str(x):\n",
    "    if x=='\\\"nan\\\"':\n",
    "        x=np.nan\n",
    "    return x\n",
    "print(check_str('\\\"nan\\\"'))\n"
   ]
  },
  {
   "cell_type": "markdown",
   "id": "f601b5da-7e03-407e-ab09-3f94bad0a4a3",
   "metadata": {},
   "source": [
    "# Data Analysis\n",
    "\n"
   ]
  },
  {
   "cell_type": "code",
   "execution_count": null,
   "id": "e389e856-85c9-4fc4-924a-7b3fb89c2410",
   "metadata": {},
   "outputs": [],
   "source": []
  },
  {
   "cell_type": "markdown",
   "id": "e6c508cf-6a05-4d0b-ba7d-25a288eda3d9",
   "metadata": {},
   "source": [
    "# checking for nan in rowdata"
   ]
  },
  {
   "cell_type": "code",
   "execution_count": 9,
   "id": "4ea927a6-6d93-43ec-a051-2a66d94b0f1a",
   "metadata": {},
   "outputs": [],
   "source": [
    "df.Delivery_person_Age=df['Delivery_person_Age'].apply(check)\n",
    "df.Delivery_person_Ratings=df['Delivery_person_Ratings'].apply(check)\n",
    "df.multiple_deliveries=df['multiple_deliveries'].apply(check)\n",
    "\n",
    "\n",
    "\n"
   ]
  },
  {
   "cell_type": "code",
   "execution_count": 10,
   "id": "700468f4-e5ea-4d63-aff6-a0e49d6732a4",
   "metadata": {},
   "outputs": [],
   "source": [
    "pattern = re.compile(r'^\\s*\\\"?nan\\\"?\\s*$')\n",
    "\n",
    "# Convert any variation of \"nan\" to actual NaN values\n",
    "df = df.applymap(lambda x: np.nan if pattern.match(str(x)) else x)\n"
   ]
  },
  {
   "cell_type": "code",
   "execution_count": 11,
   "id": "60b44da9-83c0-4491-b54c-07c2a88bfde0",
   "metadata": {},
   "outputs": [
    {
     "data": {
      "text/plain": [
       "ID                            0\n",
       "Delivery_person_ID            0\n",
       "Delivery_person_Age        1854\n",
       "Delivery_person_Ratings    1908\n",
       "Restaurant_latitude           0\n",
       "Restaurant_longitude          0\n",
       "delivery_latitude             0\n",
       "delivery_longitude            0\n",
       "Order_Date                    0\n",
       "Time_Orderd                1731\n",
       "Time_Order_picked             0\n",
       "Weatherconditions           616\n",
       "Road_traffic_density        601\n",
       "Vehicle_condition             0\n",
       "Type_of_order                 0\n",
       "Type_of_vehicle               0\n",
       "multiple_deliveries         993\n",
       "Festival                    228\n",
       "City                       1200\n",
       "time_taken                    0\n",
       "city_code                     0\n",
       "dtype: int64"
      ]
     },
     "execution_count": 11,
     "metadata": {},
     "output_type": "execute_result"
    }
   ],
   "source": [
    "df.isnull().sum()\n"
   ]
  },
  {
   "cell_type": "code",
   "execution_count": 12,
   "id": "796b248c-cc21-4bd9-bad7-e42958a07380",
   "metadata": {},
   "outputs": [],
   "source": [
    "#nan present in this columns \n",
    "# check_str not working \n",
    "df.City=df['City'].apply(check_str)\n",
    "df.Time_Orderd=df['Time_Orderd'].apply(check_str)\n",
    "df.Road_traffic_density=df['Road_traffic_density'].apply(check_str)\n",
    "df.Festival=df['Festival'].apply(check_str)\n",
    "df.Weatherconditions=df['Weatherconditions'].apply(check_str)\n",
    "df.City=df['City'].apply(check_str)"
   ]
  },
  {
   "cell_type": "markdown",
   "id": "6ef00921-effb-4f96-831f-20c979bdf574",
   "metadata": {},
   "source": [
    "# removing nan data"
   ]
  },
  {
   "cell_type": "code",
   "execution_count": 13,
   "id": "f50a1c87-c2a6-4dcc-99ab-903dbb4541d8",
   "metadata": {},
   "outputs": [
    {
     "data": {
      "text/plain": [
       "ID                         0\n",
       "Delivery_person_ID         0\n",
       "Delivery_person_Age        0\n",
       "Delivery_person_Ratings    0\n",
       "Restaurant_latitude        0\n",
       "Restaurant_longitude       0\n",
       "delivery_latitude          0\n",
       "delivery_longitude         0\n",
       "Order_Date                 0\n",
       "Time_Orderd                0\n",
       "Time_Order_picked          0\n",
       "Weatherconditions          0\n",
       "Road_traffic_density       0\n",
       "Vehicle_condition          0\n",
       "Type_of_order              0\n",
       "Type_of_vehicle            0\n",
       "multiple_deliveries        0\n",
       "Festival                   0\n",
       "City                       0\n",
       "time_taken                 0\n",
       "city_code                  0\n",
       "dtype: int64"
      ]
     },
     "execution_count": 13,
     "metadata": {},
     "output_type": "execute_result"
    }
   ],
   "source": [
    "df2=df.dropna()\n",
    "df2.isnull().sum()\n"
   ]
  },
  {
   "cell_type": "code",
   "execution_count": 14,
   "id": "f476263b-f681-45ec-9771-aae96a111b71",
   "metadata": {},
   "outputs": [],
   "source": [
    "# update for datatype\n",
    "def update_datatype(df2):\n",
    "    df2['Delivery_person_Age']=df2['Delivery_person_Age'].astype('float')\n",
    "    df2['multiple_deliveries']=df2['multiple_deliveries'].astype('float')\n",
    "    df2['Delivery_person_Ratings']=df2['Delivery_person_Ratings'].astype('float')\n",
    "    df2['Order_Date']=pd.to_datetime(df2['Order_Date'],format=\"%d-%m-%Y\") \n",
    "\n",
    "update_datatype(df2)\n",
    "\n",
    "\n",
    "\n",
    "                            "
   ]
  },
  {
   "cell_type": "code",
   "execution_count": 19,
   "id": "a3a1e3b1-dfae-4450-9e92-02bb1901067a",
   "metadata": {},
   "outputs": [
    {
     "data": {
      "text/plain": [
       "ID                                 object\n",
       "Delivery_person_ID                 object\n",
       "Delivery_person_Age               float64\n",
       "Delivery_person_Ratings           float64\n",
       "Restaurant_latitude               float64\n",
       "Restaurant_longitude              float64\n",
       "delivery_latitude                 float64\n",
       "delivery_longitude                float64\n",
       "Order_Date                 datetime64[ns]\n",
       "Time_Orderd                        object\n",
       "Time_Order_picked                  object\n",
       "Weatherconditions                  object\n",
       "Road_traffic_density               object\n",
       "Vehicle_condition                   int64\n",
       "Type_of_order                      object\n",
       "Type_of_vehicle                    object\n",
       "multiple_deliveries               float64\n",
       "Festival                           object\n",
       "City                               object\n",
       "time_taken                         object\n",
       "city_code                          object\n",
       "dtype: object"
      ]
     },
     "execution_count": 19,
     "metadata": {},
     "output_type": "execute_result"
    }
   ],
   "source": [
    "df2.dtypes\n"
   ]
  },
  {
   "cell_type": "code",
   "execution_count": 15,
   "id": "de28e2a6-0fb3-438a-948d-01a5c921ac54",
   "metadata": {},
   "outputs": [],
   "source": [
    "# for pie\n",
    "def pie_chart(df2,name):\n",
    "    data=df2[name].value_counts()\n",
    "    plt.title(name)\n",
    "    plt.pie(x=data.values,labels=data.index,autopct='%1.1f%%')\n",
    "\n"
   ]
  },
  {
   "cell_type": "code",
   "execution_count": null,
   "id": "9b57ea85-4f28-4cac-b61c-bd9ec18cc601",
   "metadata": {},
   "outputs": [],
   "source": []
  },
  {
   "cell_type": "code",
   "execution_count": 21,
   "id": "59ab8802-08a7-4681-acda-3cd2fc57a865",
   "metadata": {},
   "outputs": [
    {
     "data": {
      "image/png": "[encoded data removed]",
      "text/plain": [
       "<Figure size 640x480 with 1 Axes>"
      ]
     },
     "metadata": {},
     "output_type": "display_data"
    }
   ],
   "source": [
    "pie_chart(df2,'Type_of_vehicle')\n",
    "\n"
   ]
  },
  {
   "cell_type": "code",
   "execution_count": 22,
   "id": "92ed703e-bdac-4bcc-b53a-887b136df713",
   "metadata": {},
   "outputs": [
    {
     "data": {
      "image/png": "[encoded data removed]",
      "text/plain": [
       "<Figure size 640x480 with 1 Axes>"
      ]
     },
     "metadata": {},
     "output_type": "display_data"
    }
   ],
   "source": [
    "# traffic condition \n",
    "pie_chart(df2,'Road_traffic_density')\n"
   ]
  },
  {
   "cell_type": "code",
   "execution_count": 23,
   "id": "08bf97fd-789e-471a-8c3b-30cc934a7a0f",
   "metadata": {},
   "outputs": [
    {
     "data": {
      "image/png": "[encoded data removed]",
      "text/plain": [
       "<Figure size 640x480 with 1 Axes>"
      ]
     },
     "metadata": {},
     "output_type": "display_data"
    }
   ],
   "source": [
    "pie_chart(df2,'Vehicle_condition')\n"
   ]
  },
  {
   "cell_type": "code",
   "execution_count": 24,
   "id": "4c1e5fcd-44f1-45c6-8f81-7159f23e3fd8",
   "metadata": {},
   "outputs": [
    {
     "data": {
      "image/png": "[encoded data removed]",
      "text/plain": [
       "<Figure size 640x480 with 1 Axes>"
      ]
     },
     "metadata": {},
     "output_type": "display_data"
    }
   ],
   "source": [
    "# weather conditions\n",
    "pie_chart(df2,'Weatherconditions')\n"
   ]
  },
  {
   "cell_type": "code",
   "execution_count": 25,
   "id": "3d31486b-28ca-4428-ba0f-b8ec0a44a83e",
   "metadata": {},
   "outputs": [
    {
     "data": {
      "image/png": "[encoded data removed]",
      "text/plain": [
       "<Figure size 640x480 with 1 Axes>"
      ]
     },
     "metadata": {},
     "output_type": "display_data"
    }
   ],
   "source": [
    "# city\n",
    "pie_chart(df2,'City')\n",
    "\n"
   ]
  },
  {
   "cell_type": "code",
   "execution_count": 16,
   "id": "924a5251-0257-428d-87f7-e60b2d817f90",
   "metadata": {},
   "outputs": [],
   "source": [
    "df2['time_taken']=df2.time_taken.astype('float')\n"
   ]
  },
  {
   "cell_type": "code",
   "execution_count": 27,
   "id": "29b3718e-8920-485a-864d-6a8a49e71831",
   "metadata": {},
   "outputs": [
    {
     "name": "stdout",
     "output_type": "stream",
     "text": [
      "mean 26.55335041578031, minimum  10.0 and maximum time taken 54.0 minutes\n"
     ]
    }
   ],
   "source": [
    "print(f'mean {np.mean(df2.time_taken)}, '\n",
    "      f'minimum  {np.min(df2.time_taken)} '\n",
    "      f'and maximum time taken {np.max(df2.time_taken) } minutes')\n"
   ]
  },
  {
   "cell_type": "code",
   "execution_count": 28,
   "id": "9aa979b2-99c6-4b48-b0fa-7c108fcf1244",
   "metadata": {},
   "outputs": [
    {
     "name": "stdout",
     "output_type": "stream",
     "text": [
      "average age of delivery person : 29.610012570102494 , MIN age : 20.0  and max age : 39.0\n"
     ]
    }
   ],
   "source": [
    "# average age of delivery person\n",
    "print(f'average age of delivery person : {np.mean(df2.Delivery_person_Age)} , MIN age : {np.min(df2.Delivery_person_Age)}  and max age : {np.max(df2.Delivery_person_Age)}')\n",
    "\n"
   ]
  },
  {
   "cell_type": "code",
   "execution_count": 29,
   "id": "1dea77e6-634e-4912-955d-92f494b87f6e",
   "metadata": {},
   "outputs": [
    {
     "data": {
      "text/plain": [
       "<BarContainer object of 20 artists>"
      ]
     },
     "execution_count": 29,
     "metadata": {},
     "output_type": "execute_result"
    },
    {
     "data": {
      "image/png": "[encoded data removed]",
      "text/plain": [
       "<Figure size 640x480 with 1 Axes>"
      ]
     },
     "metadata": {},
     "output_type": "display_data"
    }
   ],
   "source": [
    "# see distribution\n",
    "data_age=df2.Delivery_person_Age.value_counts()\n",
    "plt.xlabel('Age')\n",
    "plt.ylabel('Count')\n",
    "plt.bar(data_age.index,data_age.values)\n",
    "\n",
    "\n"
   ]
  },
  {
   "cell_type": "code",
   "execution_count": 30,
   "id": "a980ca0b-ef30-4c7a-b3a4-ab1de5d05f25",
   "metadata": {},
   "outputs": [
    {
     "data": {
      "image/png": "[encoded data removed]",
      "text/plain": [
       "<Figure size 640x480 with 1 Axes>"
      ]
     },
     "metadata": {},
     "output_type": "display_data"
    }
   ],
   "source": [
    "pie_chart(df2,'Type_of_order')\n"
   ]
  },
  {
   "cell_type": "markdown",
   "id": "f89a4fef-f47c-4bc2-b423-7a9b6b9066cc",
   "metadata": {},
   "source": [
    "# highest rating "
   ]
  },
  {
   "cell_type": "code",
   "execution_count": 31,
   "id": "5f1cdb08-c80d-4ec2-8854-5aa17e64a086",
   "metadata": {},
   "outputs": [
    {
     "data": {
      "text/plain": [
       "Delivery_person_ID\n",
       "AURGRES13DEL03     4.925000\n",
       "KOCRES13DEL01      4.861538\n",
       "GOARES05DEL03      4.842857\n",
       "LUDHRES20DEL03     4.841667\n",
       "AGRRES19DEL02      4.840000\n",
       "GOARES12DEL01      4.836364\n",
       "KOLRES14DEL01      4.827273\n",
       "ALHRES09DEL03      4.825000\n",
       "AGRRES20DEL02      4.818182\n",
       "LUDHRES02DEL01     4.816667\n",
       "KOLRES20DEL03      4.811111\n",
       "ALHRES18DEL03      4.810000\n",
       "KNPRES04DEL02      4.810000\n",
       "CHENRES09DEL03     4.806452\n",
       "ALHRES11DEL02      4.800000\n",
       "LUDHRES16DEL03     4.800000\n",
       "LUDHRES19DEL03     4.800000\n",
       "ALHRES06DEL03      4.800000\n",
       "AURGRES03DEL03     4.800000\n",
       "GOARES13DEL03      4.800000\n",
       "Name: Delivery_person_Ratings, dtype: float64"
      ]
     },
     "execution_count": 31,
     "metadata": {},
     "output_type": "execute_result"
    }
   ],
   "source": [
    "data_age=df2.groupby('Delivery_person_ID')['Delivery_person_Ratings'].mean().nlargest(20)\n",
    "data_age\n"
   ]
  },
  {
   "cell_type": "code",
   "execution_count": 32,
   "id": "ae3d01f2-4938-4ba5-bf7a-d96d7828d130",
   "metadata": {},
   "outputs": [
    {
     "data": {
      "image/png": "[encoded data removed]",
      "text/plain": [
       "<Figure size 640x480 with 1 Axes>"
      ]
     },
     "metadata": {},
     "output_type": "display_data"
    }
   ],
   "source": [
    "# festival happens\n",
    "pie_chart(df2,'Festival')"
   ]
  },
  {
   "cell_type": "code",
   "execution_count": 33,
   "id": "099c0109-15be-454e-a5cc-c93b5b90302f",
   "metadata": {},
   "outputs": [],
   "source": [
    "# group by and pie_chart\n",
    "def group_pie(df2,name,target):\n",
    "    data=df2.groupby(name)[target].mean()\n",
    "    plt.figure(figsize=(14,4))\n",
    "    plt.bar(data.index,data.values)\n",
    "    "
   ]
  },
  {
   "cell_type": "code",
   "execution_count": 34,
   "id": "b5b7157c-fad7-44d1-87e5-e1a8dafce9ea",
   "metadata": {},
   "outputs": [
    {
     "data": {
      "image/png": "[encoded data removed]",
      "text/plain": [
       "<Figure size 1400x400 with 1 Axes>"
      ]
     },
     "metadata": {},
     "output_type": "display_data"
    }
   ],
   "source": [
    "# seeing effect of weather conditions to delivery time\n",
    "group_pie(df2,'Weatherconditions','time_taken')\n"
   ]
  },
  {
   "cell_type": "code",
   "execution_count": null,
   "id": "c34e3e4e-b265-415d-9257-98e2a9dd34e8",
   "metadata": {},
   "outputs": [],
   "source": []
  },
  {
   "cell_type": "markdown",
   "id": "2a0bf4fb-ca51-46da-a705-702effa7d8f6",
   "metadata": {},
   "source": [
    "# Feature Engineering "
   ]
  },
  {
   "cell_type": "code",
   "execution_count": 17,
   "id": "e5105f5f-61da-441c-aa54-250d461263c0",
   "metadata": {},
   "outputs": [],
   "source": [
    "def extract_features(df2):\n",
    "    df2['day']=df2['Order_Date'].dt.day\n",
    "    df2['month']=df2['Order_Date'].dt.month\n",
    "    df2['quarter']=df2.Order_Date.dt.quarter\n",
    "    df2['year']=df2.Order_Date.dt.year\n",
    "    df2['day_of_week']=df2.Order_Date.dt.day_of_week.astype('int')\n",
    "    df2['is_month_start']=df2.Order_Date.dt.is_month_start.astype('int')\n",
    "    df2['is_month_end']=df2.Order_Date.dt.is_month_end.astype('int')\n",
    "    df2['is_quater_start']=df2.Order_Date.dt.is_quarter_start.astype('int')\n",
    "    df2['is_quater_end']=df2.Order_Date.dt.is_quarter_end.astype('int')\n",
    "    df2['is_year_start']=df2.Order_Date.dt.is_year_start.astype('int')\n",
    "    df2['is_year_end']=df2.Order_Date.dt.is_year_end.astype('int')\n",
    "    df2['is_weekend']=np.where(df2['day_of_week'].isin([5,6]),1,0)\n",
    "    \n",
    "extract_features(df2)\n",
    "\n",
    "\n",
    "    "
   ]
  },
  {
   "cell_type": "code",
   "execution_count": 18,
   "id": "ddff8de4-326f-4679-9446-9afa740b3586",
   "metadata": {},
   "outputs": [],
   "source": [
    "# remove unwanted columns \n",
    "def remove_cols(df2):\n",
    "    df2.drop(columns=['ID','Delivery_person_ID'],inplace=True,axis=0)\n",
    "\n",
    "remove_cols(df2)"
   ]
  },
  {
   "cell_type": "code",
   "execution_count": 19,
   "id": "215ce5ac-487f-4e3e-96af-9611c85b06f9",
   "metadata": {},
   "outputs": [],
   "source": [
    "# calculatio of difference between ordered and time_order picked\n",
    "\n",
    "def change_into_time(df2):\n",
    "    df2['Time_Orderd']=pd.to_timedelta(df2['Time_Orderd'])\n",
    "    df2['Time_Order_picked']=pd.to_timedelta(df2['Time_Order_picked'])\n",
    "\n",
    "change_into_time(df2)\n",
    "def calcualation_difference(df2):\n",
    "    # if order happens  at  11 and received at 12 ; adding offset for that \n",
    "    df2['order_pick_format']=pd.to_datetime(df2['Order_Date']+np.where(df2['Time_Order_picked'] < df2['Time_Orderd'] , pd.DateOffset(days=1),pd.DateOffset(days=0))+df2['Time_Order_picked'])\n",
    "    df2['order_date_format']=df2['Order_Date']+df2['Time_Orderd']\n",
    "    \n",
    "    df2['order_prepare_time']=(df2['order_pick_format']-df2['order_date_format']).dt.total_seconds()/60\n",
    "  \n",
    "calcualation_difference(df2)\n"
   ]
  },
  {
   "cell_type": "code",
   "execution_count": 20,
   "id": "24a5436f-0e9c-4c58-acd4-780622dff337",
   "metadata": {},
   "outputs": [],
   "source": [
    "#df2.drop(columns=['Time_Order_picked_formatted','Time_Ordered_formatted'],axis=1,inplace=True)\n",
    "df2[df2.order_prepare_time <0]\n",
    "# now removing   order_pick_format\torder_date_format\n",
    "df2.drop(columns=['order_pick_format','order_date_format','Order_Date','Time_Orderd','Time_Order_picked'],axis=1,inplace=True)\n",
    "\n",
    "\n",
    "\n"
   ]
  },
  {
   "cell_type": "code",
   "execution_count": 21,
   "id": "70638b4f-529c-4bad-ae98-946dac39776e",
   "metadata": {},
   "outputs": [],
   "source": [
    "# calculate distance between restaurant and  customer location */\n",
    "\n",
    "def haversine(lat1, lon1, lat2, lon2):\n",
    "    \"\"\"\n",
    "    Calculate the great circle distance between two points\n",
    "    on the earth (specified in decimal degrees)\n",
    "    \"\"\"\n",
    "    # Convert decimal degrees to radians\n",
    "    lat1, lon1, lat2, lon2 = map(radians, [lat1, lon1, lat2, lon2])\n",
    "\n",
    "    # Haversine formula\n",
    "    dlon = lon2 - lon1\n",
    "    dlat = lat2 - lat1\n",
    "    a = sin(dlat / 2) ** 2 + cos(lat1) * cos(lat2) * sin(dlon / 2) ** 2\n",
    "    c = 2 * atan2(sqrt(a), sqrt(1 - a))\n",
    "    r = 6371  # Radius of Earth in kilometers. Use 3956 for miles\n",
    "    distance = r * c\n",
    "\n",
    "    return distance\n",
    "\n",
    "\n",
    "df2['delivery_distance']=df2.apply(lambda row  : haversine(row['Restaurant_latitude'],row['Restaurant_longitude'],row['delivery_latitude'],row['delivery_longitude']),axis=1)\n",
    "\n",
    "\n",
    "\n",
    "\n"
   ]
  },
  {
   "cell_type": "markdown",
   "id": "298f8b57-31ec-4fec-b21d-94cf70f24acd",
   "metadata": {},
   "source": [
    "# Data Preprocessing"
   ]
  },
  {
   "cell_type": "code",
   "execution_count": 22,
   "id": "aee0934a-eba0-4257-8735-994ad4339206",
   "metadata": {},
   "outputs": [
    {
     "data": {
      "text/html": [
       "<div>\n",
       "<style scoped>\n",
       "    .dataframe tbody tr th:only-of-type {\n",
       "        vertical-align: middle;\n",
       "    }\n",
       "\n",
       "    .dataframe tbody tr th {\n",
       "        vertical-align: top;\n",
       "    }\n",
       "\n",
       "    .dataframe thead th {\n",
       "        text-align: right;\n",
       "    }\n",
       "</style>\n",
       "<table border=\"1\" class=\"dataframe\">\n",
       "  <thead>\n",
       "    <tr style=\"text-align: right;\">\n",
       "      <th></th>\n",
       "      <th>Delivery_person_Age</th>\n",
       "      <th>Delivery_person_Ratings</th>\n",
       "      <th>Restaurant_latitude</th>\n",
       "      <th>Restaurant_longitude</th>\n",
       "      <th>delivery_latitude</th>\n",
       "      <th>delivery_longitude</th>\n",
       "      <th>Weatherconditions</th>\n",
       "      <th>Road_traffic_density</th>\n",
       "      <th>Vehicle_condition</th>\n",
       "      <th>Type_of_order</th>\n",
       "      <th>...</th>\n",
       "      <th>day_of_week</th>\n",
       "      <th>is_month_start</th>\n",
       "      <th>is_month_end</th>\n",
       "      <th>is_quater_start</th>\n",
       "      <th>is_quater_end</th>\n",
       "      <th>is_year_start</th>\n",
       "      <th>is_year_end</th>\n",
       "      <th>is_weekend</th>\n",
       "      <th>order_prepare_time</th>\n",
       "      <th>delivery_distance</th>\n",
       "    </tr>\n",
       "  </thead>\n",
       "  <tbody>\n",
       "    <tr>\n",
       "      <th>0</th>\n",
       "      <td>37.0</td>\n",
       "      <td>4.9</td>\n",
       "      <td>22.745049</td>\n",
       "      <td>75.892471</td>\n",
       "      <td>22.765049</td>\n",
       "      <td>75.912471</td>\n",
       "      <td>Sunny</td>\n",
       "      <td>High</td>\n",
       "      <td>2</td>\n",
       "      <td>Snack</td>\n",
       "      <td>...</td>\n",
       "      <td>5</td>\n",
       "      <td>0</td>\n",
       "      <td>0</td>\n",
       "      <td>0</td>\n",
       "      <td>0</td>\n",
       "      <td>0</td>\n",
       "      <td>0</td>\n",
       "      <td>1</td>\n",
       "      <td>15.0</td>\n",
       "      <td>3.025149</td>\n",
       "    </tr>\n",
       "    <tr>\n",
       "      <th>1</th>\n",
       "      <td>34.0</td>\n",
       "      <td>4.5</td>\n",
       "      <td>12.913041</td>\n",
       "      <td>77.683237</td>\n",
       "      <td>13.043041</td>\n",
       "      <td>77.813237</td>\n",
       "      <td>Stormy</td>\n",
       "      <td>Jam</td>\n",
       "      <td>2</td>\n",
       "      <td>Snack</td>\n",
       "      <td>...</td>\n",
       "      <td>4</td>\n",
       "      <td>0</td>\n",
       "      <td>0</td>\n",
       "      <td>0</td>\n",
       "      <td>0</td>\n",
       "      <td>0</td>\n",
       "      <td>0</td>\n",
       "      <td>0</td>\n",
       "      <td>5.0</td>\n",
       "      <td>20.183530</td>\n",
       "    </tr>\n",
       "    <tr>\n",
       "      <th>2</th>\n",
       "      <td>23.0</td>\n",
       "      <td>4.4</td>\n",
       "      <td>12.914264</td>\n",
       "      <td>77.678400</td>\n",
       "      <td>12.924264</td>\n",
       "      <td>77.688400</td>\n",
       "      <td>Sandstorms</td>\n",
       "      <td>Low</td>\n",
       "      <td>0</td>\n",
       "      <td>Drinks</td>\n",
       "      <td>...</td>\n",
       "      <td>5</td>\n",
       "      <td>0</td>\n",
       "      <td>0</td>\n",
       "      <td>0</td>\n",
       "      <td>0</td>\n",
       "      <td>0</td>\n",
       "      <td>0</td>\n",
       "      <td>1</td>\n",
       "      <td>15.0</td>\n",
       "      <td>1.552758</td>\n",
       "    </tr>\n",
       "    <tr>\n",
       "      <th>3</th>\n",
       "      <td>38.0</td>\n",
       "      <td>4.7</td>\n",
       "      <td>11.003669</td>\n",
       "      <td>76.976494</td>\n",
       "      <td>11.053669</td>\n",
       "      <td>77.026494</td>\n",
       "      <td>Sunny</td>\n",
       "      <td>Medium</td>\n",
       "      <td>0</td>\n",
       "      <td>Buffet</td>\n",
       "      <td>...</td>\n",
       "      <td>1</td>\n",
       "      <td>0</td>\n",
       "      <td>0</td>\n",
       "      <td>0</td>\n",
       "      <td>0</td>\n",
       "      <td>0</td>\n",
       "      <td>0</td>\n",
       "      <td>0</td>\n",
       "      <td>10.0</td>\n",
       "      <td>7.790401</td>\n",
       "    </tr>\n",
       "    <tr>\n",
       "      <th>4</th>\n",
       "      <td>32.0</td>\n",
       "      <td>4.6</td>\n",
       "      <td>12.972793</td>\n",
       "      <td>80.249982</td>\n",
       "      <td>13.012793</td>\n",
       "      <td>80.289982</td>\n",
       "      <td>Cloudy</td>\n",
       "      <td>High</td>\n",
       "      <td>1</td>\n",
       "      <td>Snack</td>\n",
       "      <td>...</td>\n",
       "      <td>5</td>\n",
       "      <td>0</td>\n",
       "      <td>0</td>\n",
       "      <td>0</td>\n",
       "      <td>0</td>\n",
       "      <td>0</td>\n",
       "      <td>0</td>\n",
       "      <td>1</td>\n",
       "      <td>15.0</td>\n",
       "      <td>6.210138</td>\n",
       "    </tr>\n",
       "    <tr>\n",
       "      <th>...</th>\n",
       "      <td>...</td>\n",
       "      <td>...</td>\n",
       "      <td>...</td>\n",
       "      <td>...</td>\n",
       "      <td>...</td>\n",
       "      <td>...</td>\n",
       "      <td>...</td>\n",
       "      <td>...</td>\n",
       "      <td>...</td>\n",
       "      <td>...</td>\n",
       "      <td>...</td>\n",
       "      <td>...</td>\n",
       "      <td>...</td>\n",
       "      <td>...</td>\n",
       "      <td>...</td>\n",
       "      <td>...</td>\n",
       "      <td>...</td>\n",
       "      <td>...</td>\n",
       "      <td>...</td>\n",
       "      <td>...</td>\n",
       "      <td>...</td>\n",
       "    </tr>\n",
       "    <tr>\n",
       "      <th>45588</th>\n",
       "      <td>30.0</td>\n",
       "      <td>4.8</td>\n",
       "      <td>26.902328</td>\n",
       "      <td>75.794257</td>\n",
       "      <td>26.912328</td>\n",
       "      <td>75.804257</td>\n",
       "      <td>Windy</td>\n",
       "      <td>High</td>\n",
       "      <td>1</td>\n",
       "      <td>Meal</td>\n",
       "      <td>...</td>\n",
       "      <td>3</td>\n",
       "      <td>0</td>\n",
       "      <td>0</td>\n",
       "      <td>0</td>\n",
       "      <td>0</td>\n",
       "      <td>0</td>\n",
       "      <td>0</td>\n",
       "      <td>0</td>\n",
       "      <td>10.0</td>\n",
       "      <td>1.489846</td>\n",
       "    </tr>\n",
       "    <tr>\n",
       "      <th>45589</th>\n",
       "      <td>21.0</td>\n",
       "      <td>4.6</td>\n",
       "      <td>0.000000</td>\n",
       "      <td>0.000000</td>\n",
       "      <td>0.070000</td>\n",
       "      <td>0.070000</td>\n",
       "      <td>Windy</td>\n",
       "      <td>Jam</td>\n",
       "      <td>0</td>\n",
       "      <td>Buffet</td>\n",
       "      <td>...</td>\n",
       "      <td>2</td>\n",
       "      <td>0</td>\n",
       "      <td>0</td>\n",
       "      <td>0</td>\n",
       "      <td>0</td>\n",
       "      <td>0</td>\n",
       "      <td>0</td>\n",
       "      <td>0</td>\n",
       "      <td>15.0</td>\n",
       "      <td>11.007735</td>\n",
       "    </tr>\n",
       "    <tr>\n",
       "      <th>45590</th>\n",
       "      <td>30.0</td>\n",
       "      <td>4.9</td>\n",
       "      <td>13.022394</td>\n",
       "      <td>80.242439</td>\n",
       "      <td>13.052394</td>\n",
       "      <td>80.272439</td>\n",
       "      <td>Cloudy</td>\n",
       "      <td>Low</td>\n",
       "      <td>1</td>\n",
       "      <td>Drinks</td>\n",
       "      <td>...</td>\n",
       "      <td>4</td>\n",
       "      <td>0</td>\n",
       "      <td>0</td>\n",
       "      <td>0</td>\n",
       "      <td>0</td>\n",
       "      <td>0</td>\n",
       "      <td>0</td>\n",
       "      <td>0</td>\n",
       "      <td>15.0</td>\n",
       "      <td>4.657195</td>\n",
       "    </tr>\n",
       "    <tr>\n",
       "      <th>45591</th>\n",
       "      <td>20.0</td>\n",
       "      <td>4.7</td>\n",
       "      <td>11.001753</td>\n",
       "      <td>76.986241</td>\n",
       "      <td>11.041753</td>\n",
       "      <td>77.026241</td>\n",
       "      <td>Cloudy</td>\n",
       "      <td>High</td>\n",
       "      <td>0</td>\n",
       "      <td>Snack</td>\n",
       "      <td>...</td>\n",
       "      <td>0</td>\n",
       "      <td>0</td>\n",
       "      <td>0</td>\n",
       "      <td>0</td>\n",
       "      <td>0</td>\n",
       "      <td>0</td>\n",
       "      <td>0</td>\n",
       "      <td>0</td>\n",
       "      <td>5.0</td>\n",
       "      <td>6.232393</td>\n",
       "    </tr>\n",
       "    <tr>\n",
       "      <th>45592</th>\n",
       "      <td>23.0</td>\n",
       "      <td>4.9</td>\n",
       "      <td>23.351058</td>\n",
       "      <td>85.325731</td>\n",
       "      <td>23.431058</td>\n",
       "      <td>85.405731</td>\n",
       "      <td>Fog</td>\n",
       "      <td>Medium</td>\n",
       "      <td>2</td>\n",
       "      <td>Snack</td>\n",
       "      <td>...</td>\n",
       "      <td>2</td>\n",
       "      <td>0</td>\n",
       "      <td>0</td>\n",
       "      <td>0</td>\n",
       "      <td>0</td>\n",
       "      <td>0</td>\n",
       "      <td>0</td>\n",
       "      <td>0</td>\n",
       "      <td>5.0</td>\n",
       "      <td>12.074396</td>\n",
       "    </tr>\n",
       "  </tbody>\n",
       "</table>\n",
       "<p>41368 rows × 30 columns</p>\n",
       "</div>"
      ],
      "text/plain": [
       "       Delivery_person_Age  Delivery_person_Ratings  Restaurant_latitude  \\\n",
       "0                     37.0                      4.9            22.745049   \n",
       "1                     34.0                      4.5            12.913041   \n",
       "2                     23.0                      4.4            12.914264   \n",
       "3                     38.0                      4.7            11.003669   \n",
       "4                     32.0                      4.6            12.972793   \n",
       "...                    ...                      ...                  ...   \n",
       "45588                 30.0                      4.8            26.902328   \n",
       "45589                 21.0                      4.6             0.000000   \n",
       "45590                 30.0                      4.9            13.022394   \n",
       "45591                 20.0                      4.7            11.001753   \n",
       "45592                 23.0                      4.9            23.351058   \n",
       "\n",
       "       Restaurant_longitude  delivery_latitude  delivery_longitude  \\\n",
       "0                 75.892471          22.765049           75.912471   \n",
       "1                 77.683237          13.043041           77.813237   \n",
       "2                 77.678400          12.924264           77.688400   \n",
       "3                 76.976494          11.053669           77.026494   \n",
       "4                 80.249982          13.012793           80.289982   \n",
       "...                     ...                ...                 ...   \n",
       "45588             75.794257          26.912328           75.804257   \n",
       "45589              0.000000           0.070000            0.070000   \n",
       "45590             80.242439          13.052394           80.272439   \n",
       "45591             76.986241          11.041753           77.026241   \n",
       "45592             85.325731          23.431058           85.405731   \n",
       "\n",
       "      Weatherconditions Road_traffic_density  Vehicle_condition Type_of_order  \\\n",
       "0                 Sunny                High                   2        Snack    \n",
       "1                Stormy                 Jam                   2        Snack    \n",
       "2            Sandstorms                 Low                   0       Drinks    \n",
       "3                 Sunny              Medium                   0       Buffet    \n",
       "4                Cloudy                High                   1        Snack    \n",
       "...                 ...                  ...                ...           ...   \n",
       "45588             Windy                High                   1         Meal    \n",
       "45589             Windy                 Jam                   0       Buffet    \n",
       "45590            Cloudy                 Low                   1       Drinks    \n",
       "45591            Cloudy                High                   0        Snack    \n",
       "45592               Fog              Medium                   2        Snack    \n",
       "\n",
       "       ... day_of_week  is_month_start is_month_end is_quater_start  \\\n",
       "0      ...           5               0            0               0   \n",
       "1      ...           4               0            0               0   \n",
       "2      ...           5               0            0               0   \n",
       "3      ...           1               0            0               0   \n",
       "4      ...           5               0            0               0   \n",
       "...    ...         ...             ...          ...             ...   \n",
       "45588  ...           3               0            0               0   \n",
       "45589  ...           2               0            0               0   \n",
       "45590  ...           4               0            0               0   \n",
       "45591  ...           0               0            0               0   \n",
       "45592  ...           2               0            0               0   \n",
       "\n",
       "       is_quater_end is_year_start  is_year_end  is_weekend  \\\n",
       "0                  0             0            0           1   \n",
       "1                  0             0            0           0   \n",
       "2                  0             0            0           1   \n",
       "3                  0             0            0           0   \n",
       "4                  0             0            0           1   \n",
       "...              ...           ...          ...         ...   \n",
       "45588              0             0            0           0   \n",
       "45589              0             0            0           0   \n",
       "45590              0             0            0           0   \n",
       "45591              0             0            0           0   \n",
       "45592              0             0            0           0   \n",
       "\n",
       "       order_prepare_time  delivery_distance  \n",
       "0                    15.0           3.025149  \n",
       "1                     5.0          20.183530  \n",
       "2                    15.0           1.552758  \n",
       "3                    10.0           7.790401  \n",
       "4                    15.0           6.210138  \n",
       "...                   ...                ...  \n",
       "45588                10.0           1.489846  \n",
       "45589                15.0          11.007735  \n",
       "45590                15.0           4.657195  \n",
       "45591                 5.0           6.232393  \n",
       "45592                 5.0          12.074396  \n",
       "\n",
       "[41368 rows x 30 columns]"
      ]
     },
     "execution_count": 22,
     "metadata": {},
     "output_type": "execute_result"
    }
   ],
   "source": [
    "df2\n"
   ]
  },
  {
   "cell_type": "code",
   "execution_count": 106,
   "id": "6cf5ba1f-2182-472a-9900-b7a01eef0484",
   "metadata": {},
   "outputs": [
    {
     "name": "stdout",
     "output_type": "stream",
     "text": [
      "Distance between restaurant and location \n",
      "\n",
      " average distance: 26.912063268341573 ,\n",
      "  minimum distance : 1.4650674052309467 ,  \n",
      "  maximum distance : 6884.726398933316\n",
      "\n",
      " ORDER PREPARE TIME \n",
      "\n",
      " average time: 9.989242893057435 ,\n",
      "  minimum time : 5.0 ,  \n",
      "  maximum time : 15.0\n"
     ]
    }
   ],
   "source": [
    "# finding max,min and  avg distance \n",
    "print('Distance between restaurant and location \\n')\n",
    "print(f' average distance: {np.mean(df2.delivery_distance)} ,\\n  minimum distance : {np.min(df2.delivery_distance)} ,  \\n  maximum distance : {np.max(df2.delivery_distance)}')\n",
    "# finding max,min and  avg order prepare time\n",
    "print('\\n ORDER PREPARE TIME \\n')\n",
    "print(f' average time: {np.mean(df2.order_prepare_time)} ,\\n  minimum time : {np.min(df2.order_prepare_time)} ,  \\n  maximum time : {np.max(df2.order_prepare_time)}')"
   ]
  },
  {
   "cell_type": "markdown",
   "id": "a45913b3-b43b-499e-8cb4-b8cdf3cd5e99",
   "metadata": {},
   "source": [
    "# encoding  categorical features\n",
    "\n"
   ]
  },
  {
   "cell_type": "code",
   "execution_count": 23,
   "id": "c394261a-fc78-434a-bd89-7bd7d551ba5b",
   "metadata": {},
   "outputs": [],
   "source": [
    "def label_encoding_features(df):\n",
    "    categorical_columns=df.select_dtypes(include='object').columns\n",
    "    labelencoder=LabelEncoder()\n",
    "    df[categorical_columns]=df[categorical_columns].apply(lambda col : labelencoder.fit_transform(col))\n",
    "\n",
    "label_encoding_features(df2)\n"
   ]
  },
  {
   "cell_type": "code",
   "execution_count": 113,
   "id": "8d7d6be8-5aa4-4d8e-beb0-ddae4fae7bbf",
   "metadata": {},
   "outputs": [
    {
     "data": {
      "text/plain": [
       "Delivery_person_Age        float64\n",
       "Delivery_person_Ratings    float64\n",
       "Restaurant_latitude        float64\n",
       "Restaurant_longitude       float64\n",
       "delivery_latitude          float64\n",
       "delivery_longitude         float64\n",
       "Weatherconditions            int32\n",
       "Road_traffic_density         int32\n",
       "Vehicle_condition            int64\n",
       "Type_of_order                int32\n",
       "Type_of_vehicle              int32\n",
       "multiple_deliveries        float64\n",
       "Festival                     int32\n",
       "City                         int32\n",
       "time_taken                 float64\n",
       "city_code                    int32\n",
       "day                          int32\n",
       "month                        int32\n",
       "quarter                      int32\n",
       "year                         int32\n",
       "day_of_week                  int32\n",
       "is_month_start               int32\n",
       "is_month_end                 int32\n",
       "is_quater_start              int32\n",
       "is_quater_end                int32\n",
       "is_year_start                int32\n",
       "is_year_end                  int32\n",
       "is_weekend                   int32\n",
       "order_prepare_time         float64\n",
       "delivery_distance          float64\n",
       "dtype: object"
      ]
     },
     "execution_count": 113,
     "metadata": {},
     "output_type": "execute_result"
    }
   ],
   "source": [
    "df2.dtypes\n",
    "\n",
    "\n"
   ]
  },
  {
   "cell_type": "markdown",
   "id": "025a1436-2fb0-4138-a139-46c651f58d72",
   "metadata": {},
   "source": [
    "# Train test split "
   ]
  },
  {
   "cell_type": "code",
   "execution_count": 24,
   "id": "dcbd8134-4c29-4501-adde-586a4c20a3e9",
   "metadata": {},
   "outputs": [
    {
     "data": {
      "text/plain": [
       "((41368, 29), (41368,))"
      ]
     },
     "execution_count": 24,
     "metadata": {},
     "output_type": "execute_result"
    }
   ],
   "source": [
    "X=df2.drop('time_taken',axis=1)\n",
    "y=df2.time_taken\n",
    "X.shape,y.shape\n"
   ]
  },
  {
   "cell_type": "code",
   "execution_count": 25,
   "id": "c1d08f26-5f71-4cb1-ae4e-61471826c910",
   "metadata": {},
   "outputs": [
    {
     "name": "stdout",
     "output_type": "stream",
     "text": [
      "(33094, 29) (33094,) (8274, 29) (8274,)\n"
     ]
    }
   ],
   "source": [
    "X_train,X_test,y_train,y_test=train_test_split(X,y,test_size=0.2,random_state=42)\n",
    "print(X_train.shape,y_train.shape,X_test.shape,y_test.shape)\n"
   ]
  },
  {
   "cell_type": "markdown",
   "id": "c157cf4e-8f93-4bea-b483-febf8ce41ff7",
   "metadata": {},
   "source": [
    "# Standardization"
   ]
  },
  {
   "cell_type": "code",
   "execution_count": 26,
   "id": "8865d373-05ce-40ac-b9eb-cca2f8079d5b",
   "metadata": {},
   "outputs": [],
   "source": [
    "scaler=StandardScaler()\n",
    "scaler.fit(X_train)\n",
    "X_train=scaler.transform(X_train)\n",
    "X_test=scaler.transform(X_test)\n",
    "\n",
    "\n"
   ]
  },
  {
   "cell_type": "markdown",
   "id": "4286924f-ee2d-43d5-9c4c-59a8a56e0c66",
   "metadata": {},
   "source": [
    "# Model Building"
   ]
  },
  {
   "cell_type": "code",
   "execution_count": 27,
   "id": "b6ac1287-3ca3-46b5-87da-542ff3078ba2",
   "metadata": {},
   "outputs": [
    {
     "name": "stdout",
     "output_type": "stream",
     "text": [
      "LinearRegression:\n",
      "Best parameters: {}\n",
      "Best R2 score: 0.5022659988564349\n",
      "\n",
      "DecisionTreeRegressor:\n",
      "Best parameters: {'max_depth': 7}\n",
      "Best R2 score: 0.7454513383677843\n",
      "\n",
      "RandomForestRegressor:\n",
      "Best parameters: {'n_estimators': 30}\n",
      "Best R2 score: 0.8273885983157957\n",
      "\n",
      "XGBRegressor:\n",
      "Best parameters: {'max_depth': 7, 'n_estimators': 20}\n",
      "Best R2 score: 0.8362094710362376\n",
      "\n"
     ]
    }
   ],
   "source": [
    "models=[LinearRegression(),DecisionTreeRegressor(),RandomForestRegressor(),xgb.XGBRegressor()]\n",
    "param_grid=[{},{'max_depth': [3, 5, 7]},\n",
    "    {'n_estimators': [20,25,30]},\n",
    "    {'n_estimators': [20, 25, 30], 'max_depth': [5, 7, 9]},\n",
    "           ]\n",
    "\n",
    "for i ,model in enumerate(models):\n",
    "    grid_search = GridSearchCV(model, param_grid[i], cv=5, scoring='r2')\n",
    "    grid_search.fit(X_train, y_train)\n",
    "\n",
    "    print(f\"{model.__class__.__name__}:\")\n",
    "    print(\"Best parameters:\", grid_search.best_params_)\n",
    "    print(\"Best R2 score:\", grid_search.best_score_)\n",
    "    print()\n",
    "    "
   ]
  },
  {
   "cell_type": "markdown",
   "id": "cc7c869f-a4c6-4010-8279-b1b151e96afd",
   "metadata": {},
   "source": [
    "# xgg regressor  has the best r2 score"
   ]
  },
  {
   "cell_type": "code",
   "execution_count": 28,
   "id": "4c49cd10-f8de-4666-9697-8a76c453a9c2",
   "metadata": {},
   "outputs": [
    {
     "data": {
      "text/html": [
       "<style>#sk-container-id-1 {color: black;}#sk-container-id-1 pre{padding: 0;}#sk-container-id-1 div.sk-toggleable {background-color: white;}#sk-container-id-1 label.sk-toggleable__label {cursor: pointer;display: block;width: 100%;margin-bottom: 0;padding: 0.3em;box-sizing: border-box;text-align: center;}#sk-container-id-1 label.sk-toggleable__label-arrow:before {content: \"▸\";float: left;margin-right: 0.25em;color: #696969;}#sk-container-id-1 label.sk-toggleable__label-arrow:hover:before {color: black;}#sk-container-id-1 div.sk-estimator:hover label.sk-toggleable__label-arrow:before {color: black;}#sk-container-id-1 div.sk-toggleable__content {max-height: 0;max-width: 0;overflow: hidden;text-align: left;background-color: #f0f8ff;}#sk-container-id-1 div.sk-toggleable__content pre {margin: 0.2em;color: black;border-radius: 0.25em;background-color: #f0f8ff;}#sk-container-id-1 input.sk-toggleable__control:checked~div.sk-toggleable__content {max-height: 200px;max-width: 100%;overflow: auto;}#sk-container-id-1 input.sk-toggleable__control:checked~label.sk-toggleable__label-arrow:before {content: \"▾\";}#sk-container-id-1 div.sk-estimator input.sk-toggleable__control:checked~label.sk-toggleable__label {background-color: #d4ebff;}#sk-container-id-1 div.sk-label input.sk-toggleable__control:checked~label.sk-toggleable__label {background-color: #d4ebff;}#sk-container-id-1 input.sk-hidden--visually {border: 0;clip: rect(1px 1px 1px 1px);clip: rect(1px, 1px, 1px, 1px);height: 1px;margin: -1px;overflow: hidden;padding: 0;position: absolute;width: 1px;}#sk-container-id-1 div.sk-estimator {font-family: monospace;background-color: #f0f8ff;border: 1px dotted black;border-radius: 0.25em;box-sizing: border-box;margin-bottom: 0.5em;}#sk-container-id-1 div.sk-estimator:hover {background-color: #d4ebff;}#sk-container-id-1 div.sk-parallel-item::after {content: \"\";width: 100%;border-bottom: 1px solid gray;flex-grow: 1;}#sk-container-id-1 div.sk-label:hover label.sk-toggleable__label {background-color: #d4ebff;}#sk-container-id-1 div.sk-serial::before {content: \"\";position: absolute;border-left: 1px solid gray;box-sizing: border-box;top: 0;bottom: 0;left: 50%;z-index: 0;}#sk-container-id-1 div.sk-serial {display: flex;flex-direction: column;align-items: center;background-color: white;padding-right: 0.2em;padding-left: 0.2em;position: relative;}#sk-container-id-1 div.sk-item {position: relative;z-index: 1;}#sk-container-id-1 div.sk-parallel {display: flex;align-items: stretch;justify-content: center;background-color: white;position: relative;}#sk-container-id-1 div.sk-item::before, #sk-container-id-1 div.sk-parallel-item::before {content: \"\";position: absolute;border-left: 1px solid gray;box-sizing: border-box;top: 0;bottom: 0;left: 50%;z-index: -1;}#sk-container-id-1 div.sk-parallel-item {display: flex;flex-direction: column;z-index: 1;position: relative;background-color: white;}#sk-container-id-1 div.sk-parallel-item:first-child::after {align-self: flex-end;width: 50%;}#sk-container-id-1 div.sk-parallel-item:last-child::after {align-self: flex-start;width: 50%;}#sk-container-id-1 div.sk-parallel-item:only-child::after {width: 0;}#sk-container-id-1 div.sk-dashed-wrapped {border: 1px dashed gray;margin: 0 0.4em 0.5em 0.4em;box-sizing: border-box;padding-bottom: 0.4em;background-color: white;}#sk-container-id-1 div.sk-label label {font-family: monospace;font-weight: bold;display: inline-block;line-height: 1.2em;}#sk-container-id-1 div.sk-label-container {text-align: center;}#sk-container-id-1 div.sk-container {/* jupyter's `normalize.less` sets `[hidden] { display: none; }` but bootstrap.min.css set `[hidden] { display: none !important; }` so we also need the `!important` here to be able to override the default hidden behavior on the sphinx rendered scikit-learn.org. See: https://github.com/scikit-learn/scikit-learn/issues/21755 */display: inline-block !important;position: relative;}#sk-container-id-1 div.sk-text-repr-fallback {display: none;}</style><div id=\"sk-container-id-1\" class=\"sk-top-container\"><div class=\"sk-text-repr-fallback\"><pre>XGBRegressor(base_score=None, booster=None, callbacks=None,\n",
       "             colsample_bylevel=None, colsample_bynode=None,\n",
       "             colsample_bytree=None, device=None, early_stopping_rounds=None,\n",
       "             enable_categorical=False, eval_metric=None, feature_types=None,\n",
       "             gamma=None, grow_policy=None, importance_type=None,\n",
       "             interaction_constraints=None, learning_rate=None, max_bin=None,\n",
       "             max_cat_threshold=None, max_cat_to_onehot=None,\n",
       "             max_delta_step=None, max_depth=7, max_leaves=None,\n",
       "             min_child_weight=None, missing=nan, monotone_constraints=None,\n",
       "             multi_strategy=None, n_estimators=20, n_jobs=None,\n",
       "             num_parallel_tree=None, random_state=None, ...)</pre><b>In a Jupyter environment, please rerun this cell to show the HTML representation or trust the notebook. <br />On GitHub, the HTML representation is unable to render, please try loading this page with nbviewer.org.</b></div><div class=\"sk-container\" hidden><div class=\"sk-item\"><div class=\"sk-estimator sk-toggleable\"><input class=\"sk-toggleable__control sk-hidden--visually\" id=\"sk-estimator-id-1\" type=\"checkbox\" checked><label for=\"sk-estimator-id-1\" class=\"sk-toggleable__label sk-toggleable__label-arrow\">XGBRegressor</label><div class=\"sk-toggleable__content\"><pre>XGBRegressor(base_score=None, booster=None, callbacks=None,\n",
       "             colsample_bylevel=None, colsample_bynode=None,\n",
       "             colsample_bytree=None, device=None, early_stopping_rounds=None,\n",
       "             enable_categorical=False, eval_metric=None, feature_types=None,\n",
       "             gamma=None, grow_policy=None, importance_type=None,\n",
       "             interaction_constraints=None, learning_rate=None, max_bin=None,\n",
       "             max_cat_threshold=None, max_cat_to_onehot=None,\n",
       "             max_delta_step=None, max_depth=7, max_leaves=None,\n",
       "             min_child_weight=None, missing=nan, monotone_constraints=None,\n",
       "             multi_strategy=None, n_estimators=20, n_jobs=None,\n",
       "             num_parallel_tree=None, random_state=None, ...)</pre></div></div></div></div></div>"
      ],
      "text/plain": [
       "XGBRegressor(base_score=None, booster=None, callbacks=None,\n",
       "             colsample_bylevel=None, colsample_bynode=None,\n",
       "             colsample_bytree=None, device=None, early_stopping_rounds=None,\n",
       "             enable_categorical=False, eval_metric=None, feature_types=None,\n",
       "             gamma=None, grow_policy=None, importance_type=None,\n",
       "             interaction_constraints=None, learning_rate=None, max_bin=None,\n",
       "             max_cat_threshold=None, max_cat_to_onehot=None,\n",
       "             max_delta_step=None, max_depth=7, max_leaves=None,\n",
       "             min_child_weight=None, missing=nan, monotone_constraints=None,\n",
       "             multi_strategy=None, n_estimators=20, n_jobs=None,\n",
       "             num_parallel_tree=None, random_state=None, ...)"
      ]
     },
     "execution_count": 28,
     "metadata": {},
     "output_type": "execute_result"
    }
   ],
   "source": [
    "# model building\n",
    "model=xgb.XGBRegressor(n_estimators=20,max_depth=7)\n",
    "model.fit(X_train,y_train)\n"
   ]
  },
  {
   "cell_type": "code",
   "execution_count": 30,
   "id": "3d0c8014-a667-420e-8287-70de00d84ded",
   "metadata": {},
   "outputs": [
    {
     "name": "stdout",
     "output_type": "stream",
     "text": [
      "Mean Absolute Error (MAE): 3.06\n",
      "Mean Squared Error (MSE): 14.48\n",
      "Root Mean Squared Error (RMSE): 3.81\n",
      "R-squared (R2) Score: 0.84\n"
     ]
    }
   ],
   "source": [
    "y_pred=model.predict(X_test)\n",
    "mae=mean_absolute_error(y_test,y_pred)\n",
    "mse=mean_squared_error(y_test,y_pred)\n",
    "rmse=np.sqrt(mse)\n",
    "r2=r2_score(y_test,y_pred)\n",
    "print(\"Mean Absolute Error (MAE):\", round(mae,2))\n",
    "print(\"Mean Squared Error (MSE):\", round(mse,2))\n",
    "print(\"Root Mean Squared Error (RMSE):\", round(rmse,2))\n",
    "print(\"R-squared (R2) Score:\", round(r2,2))\n"
   ]
  },
  {
   "cell_type": "code",
   "execution_count": 32,
   "id": "444ca584-d0c3-40b9-892c-96a7ddbfcd28",
   "metadata": {},
   "outputs": [],
   "source": [
    "# now save the model\n",
    "with open('delivery_time_prediction.pkl','wb') as f:\n",
    "    pickle.dump(model,f)\n",
    "    "
   ]
  },
  {
   "cell_type": "code",
   "execution_count": null,
   "id": "bb6014ac-f8e9-4036-a04a-c68d4b6880f6",
   "metadata": {},
   "outputs": [],
   "source": [
    "with open('delivery_time_prediction.pkl', 'rb') as f:\n",
    "    model = pickle.load(f)\n"
   ]
  },
  {
   "cell_type": "code",
   "execution_count": 34,
   "id": "7a7569fd-d9cf-4b30-8687-5bf70e69f136",
   "metadata": {},
   "outputs": [],
   "source": [
    "#storing columns\n",
    "\n",
    "columns = {\n",
    "    'data_columns' : [col.lower() for col in X.columns]\n",
    "}\n",
    "with open(\"columns.json\",\"w\") as f:\n",
    "    f.write(json.dumps(columns))\n",
    "    "
   ]
  },
  {
   "cell_type": "code",
   "execution_count": 35,
   "id": "d9c39347-2ab7-4234-916b-3dfeb3c28fbb",
   "metadata": {},
   "outputs": [
    {
     "data": {
      "text/plain": [
       "Index(['Delivery_person_Age', 'Delivery_person_Ratings', 'Restaurant_latitude',\n",
       "       'Restaurant_longitude', 'delivery_latitude', 'delivery_longitude',\n",
       "       'Weatherconditions', 'Road_traffic_density', 'Vehicle_condition',\n",
       "       'Type_of_order', 'Type_of_vehicle', 'multiple_deliveries', 'Festival',\n",
       "       'City', 'time_taken', 'city_code', 'day', 'month', 'quarter', 'year',\n",
       "       'day_of_week', 'is_month_start', 'is_month_end', 'is_quater_start',\n",
       "       'is_quater_end', 'is_year_start', 'is_year_end', 'is_weekend',\n",
       "       'order_prepare_time', 'delivery_distance'],\n",
       "      dtype='object')"
      ]
     },
     "execution_count": 35,
     "metadata": {},
     "output_type": "execute_result"
    }
   ],
   "source": [
    "df2.columns\n"
   ]
  },
  {
   "cell_type": "code",
   "execution_count": 41,
   "id": "e92baf9a-0d28-4b6f-bffc-2dc5b8aa11fd",
   "metadata": {},
   "outputs": [
    {
     "data": {
      "text/plain": [
       "array([40.45385], dtype=float32)"
      ]
     },
     "execution_count": 41,
     "metadata": {},
     "output_type": "execute_result"
    }
   ],
   "source": [
    "#\n",
    "model.predict(22,2)\n"
   ]
  },
  {
   "cell_type": "code",
   "execution_count": null,
   "id": "f0f80285-d5c9-40e8-bcbd-94922f37a528",
   "metadata": {},
   "outputs": [],
   "source": []
  }
 ],
 "metadata": {
  "kernelspec": {
   "display_name": "Python 3 (ipykernel)",
   "language": "python",
   "name": "python3"
  },
  "language_info": {
   "codemirror_mode": {
    "name": "ipython",
    "version": 3
   },
   "file_extension": ".py",
   "mimetype": "text/x-python",
   "name": "python",
   "nbconvert_exporter": "python",
   "pygments_lexer": "ipython3",
   "version": "3.12.0"
  }
 },
 "nbformat": 4,
 "nbformat_minor": 5
}
